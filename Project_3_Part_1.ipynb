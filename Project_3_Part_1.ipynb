{
  "cells": [
    {
      "cell_type": "markdown",
      "metadata": {
        "id": "view-in-github",
        "colab_type": "text"
      },
      "source": [
        "<a href=\"https://colab.research.google.com/github/hadeelfarash/Chicago_Crime_TimeSeriesAnalysis/blob/main/Project_3_Part_1.ipynb\" target=\"_parent\"><img src=\"https://colab.research.google.com/assets/colab-badge.svg\" alt=\"Open In Colab\"/></a>"
      ]
    },
    {
      "cell_type": "code",
      "execution_count": 3,
      "metadata": {
        "colab": {
          "base_uri": "https://localhost:8080/",
          "height": 516
        },
        "id": "QgqsDmSY_x39",
        "outputId": "b801cc7b-4b46-4c59-d20f-590341d492e0"
      },
      "outputs": [
        {
          "output_type": "execute_result",
          "data": {
            "text/plain": [
              "         ID Case Number                    Date                 Block  IUCR  \\\n",
              "0  11037294    JA371270  03/18/2015 12:00:00 PM     0000X W WACKER DR  1153   \n",
              "1  11646293    JC213749  12/20/2018 03:00:00 PM  023XX N LOCKWOOD AVE  1154   \n",
              "2  11645836    JC212333  05/01/2016 12:25:00 AM   055XX S ROCKWELL ST  1153   \n",
              "3  11645959    JC211511  12/20/2018 04:00:00 PM    045XX N ALBANY AVE  2820   \n",
              "4  11645601    JC212935  06/01/2014 12:01:00 AM   087XX S SANGAMON ST  1153   \n",
              "\n",
              "         Primary Type                              Description  \\\n",
              "0  DECEPTIVE PRACTICE      FINANCIAL IDENTITY THEFT OVER $ 300   \n",
              "1  DECEPTIVE PRACTICE  FINANCIAL IDENTITY THEFT $300 AND UNDER   \n",
              "2  DECEPTIVE PRACTICE      FINANCIAL IDENTITY THEFT OVER $ 300   \n",
              "3       OTHER OFFENSE                         TELEPHONE THREAT   \n",
              "4  DECEPTIVE PRACTICE      FINANCIAL IDENTITY THEFT OVER $ 300   \n",
              "\n",
              "  Location Description  Arrest  Domestic  ...  Ward  Community Area  FBI Code  \\\n",
              "0                 BANK   False     False  ...  42.0            32.0        11   \n",
              "1            APARTMENT   False     False  ...  36.0            19.0        11   \n",
              "2                  NaN   False     False  ...  15.0            63.0        11   \n",
              "3            RESIDENCE   False     False  ...  33.0            14.0       08A   \n",
              "4            RESIDENCE   False     False  ...  21.0            71.0        11   \n",
              "\n",
              "   X Coordinate Y Coordinate  Year              Updated On  Latitude  \\\n",
              "0           NaN          NaN  2015  08/01/2017 03:52:26 PM       NaN   \n",
              "1           NaN          NaN  2018  04/06/2019 04:04:43 PM       NaN   \n",
              "2           NaN          NaN  2016  04/06/2019 04:04:43 PM       NaN   \n",
              "3           NaN          NaN  2018  04/06/2019 04:04:43 PM       NaN   \n",
              "4           NaN          NaN  2014  04/06/2019 04:04:43 PM       NaN   \n",
              "\n",
              "  Longitude  Location  \n",
              "0       NaN       NaN  \n",
              "1       NaN       NaN  \n",
              "2       NaN       NaN  \n",
              "3       NaN       NaN  \n",
              "4       NaN       NaN  \n",
              "\n",
              "[5 rows x 22 columns]"
            ],
            "text/html": [
              "\n",
              "  <div id=\"df-4d73a6af-3506-4caa-ba43-8870a7b68d93\" class=\"colab-df-container\">\n",
              "    <div>\n",
              "<style scoped>\n",
              "    .dataframe tbody tr th:only-of-type {\n",
              "        vertical-align: middle;\n",
              "    }\n",
              "\n",
              "    .dataframe tbody tr th {\n",
              "        vertical-align: top;\n",
              "    }\n",
              "\n",
              "    .dataframe thead th {\n",
              "        text-align: right;\n",
              "    }\n",
              "</style>\n",
              "<table border=\"1\" class=\"dataframe\">\n",
              "  <thead>\n",
              "    <tr style=\"text-align: right;\">\n",
              "      <th></th>\n",
              "      <th>ID</th>\n",
              "      <th>Case Number</th>\n",
              "      <th>Date</th>\n",
              "      <th>Block</th>\n",
              "      <th>IUCR</th>\n",
              "      <th>Primary Type</th>\n",
              "      <th>Description</th>\n",
              "      <th>Location Description</th>\n",
              "      <th>Arrest</th>\n",
              "      <th>Domestic</th>\n",
              "      <th>...</th>\n",
              "      <th>Ward</th>\n",
              "      <th>Community Area</th>\n",
              "      <th>FBI Code</th>\n",
              "      <th>X Coordinate</th>\n",
              "      <th>Y Coordinate</th>\n",
              "      <th>Year</th>\n",
              "      <th>Updated On</th>\n",
              "      <th>Latitude</th>\n",
              "      <th>Longitude</th>\n",
              "      <th>Location</th>\n",
              "    </tr>\n",
              "  </thead>\n",
              "  <tbody>\n",
              "    <tr>\n",
              "      <th>0</th>\n",
              "      <td>11037294</td>\n",
              "      <td>JA371270</td>\n",
              "      <td>03/18/2015 12:00:00 PM</td>\n",
              "      <td>0000X W WACKER DR</td>\n",
              "      <td>1153</td>\n",
              "      <td>DECEPTIVE PRACTICE</td>\n",
              "      <td>FINANCIAL IDENTITY THEFT OVER $ 300</td>\n",
              "      <td>BANK</td>\n",
              "      <td>False</td>\n",
              "      <td>False</td>\n",
              "      <td>...</td>\n",
              "      <td>42.0</td>\n",
              "      <td>32.0</td>\n",
              "      <td>11</td>\n",
              "      <td>NaN</td>\n",
              "      <td>NaN</td>\n",
              "      <td>2015</td>\n",
              "      <td>08/01/2017 03:52:26 PM</td>\n",
              "      <td>NaN</td>\n",
              "      <td>NaN</td>\n",
              "      <td>NaN</td>\n",
              "    </tr>\n",
              "    <tr>\n",
              "      <th>1</th>\n",
              "      <td>11646293</td>\n",
              "      <td>JC213749</td>\n",
              "      <td>12/20/2018 03:00:00 PM</td>\n",
              "      <td>023XX N LOCKWOOD AVE</td>\n",
              "      <td>1154</td>\n",
              "      <td>DECEPTIVE PRACTICE</td>\n",
              "      <td>FINANCIAL IDENTITY THEFT $300 AND UNDER</td>\n",
              "      <td>APARTMENT</td>\n",
              "      <td>False</td>\n",
              "      <td>False</td>\n",
              "      <td>...</td>\n",
              "      <td>36.0</td>\n",
              "      <td>19.0</td>\n",
              "      <td>11</td>\n",
              "      <td>NaN</td>\n",
              "      <td>NaN</td>\n",
              "      <td>2018</td>\n",
              "      <td>04/06/2019 04:04:43 PM</td>\n",
              "      <td>NaN</td>\n",
              "      <td>NaN</td>\n",
              "      <td>NaN</td>\n",
              "    </tr>\n",
              "    <tr>\n",
              "      <th>2</th>\n",
              "      <td>11645836</td>\n",
              "      <td>JC212333</td>\n",
              "      <td>05/01/2016 12:25:00 AM</td>\n",
              "      <td>055XX S ROCKWELL ST</td>\n",
              "      <td>1153</td>\n",
              "      <td>DECEPTIVE PRACTICE</td>\n",
              "      <td>FINANCIAL IDENTITY THEFT OVER $ 300</td>\n",
              "      <td>NaN</td>\n",
              "      <td>False</td>\n",
              "      <td>False</td>\n",
              "      <td>...</td>\n",
              "      <td>15.0</td>\n",
              "      <td>63.0</td>\n",
              "      <td>11</td>\n",
              "      <td>NaN</td>\n",
              "      <td>NaN</td>\n",
              "      <td>2016</td>\n",
              "      <td>04/06/2019 04:04:43 PM</td>\n",
              "      <td>NaN</td>\n",
              "      <td>NaN</td>\n",
              "      <td>NaN</td>\n",
              "    </tr>\n",
              "    <tr>\n",
              "      <th>3</th>\n",
              "      <td>11645959</td>\n",
              "      <td>JC211511</td>\n",
              "      <td>12/20/2018 04:00:00 PM</td>\n",
              "      <td>045XX N ALBANY AVE</td>\n",
              "      <td>2820</td>\n",
              "      <td>OTHER OFFENSE</td>\n",
              "      <td>TELEPHONE THREAT</td>\n",
              "      <td>RESIDENCE</td>\n",
              "      <td>False</td>\n",
              "      <td>False</td>\n",
              "      <td>...</td>\n",
              "      <td>33.0</td>\n",
              "      <td>14.0</td>\n",
              "      <td>08A</td>\n",
              "      <td>NaN</td>\n",
              "      <td>NaN</td>\n",
              "      <td>2018</td>\n",
              "      <td>04/06/2019 04:04:43 PM</td>\n",
              "      <td>NaN</td>\n",
              "      <td>NaN</td>\n",
              "      <td>NaN</td>\n",
              "    </tr>\n",
              "    <tr>\n",
              "      <th>4</th>\n",
              "      <td>11645601</td>\n",
              "      <td>JC212935</td>\n",
              "      <td>06/01/2014 12:01:00 AM</td>\n",
              "      <td>087XX S SANGAMON ST</td>\n",
              "      <td>1153</td>\n",
              "      <td>DECEPTIVE PRACTICE</td>\n",
              "      <td>FINANCIAL IDENTITY THEFT OVER $ 300</td>\n",
              "      <td>RESIDENCE</td>\n",
              "      <td>False</td>\n",
              "      <td>False</td>\n",
              "      <td>...</td>\n",
              "      <td>21.0</td>\n",
              "      <td>71.0</td>\n",
              "      <td>11</td>\n",
              "      <td>NaN</td>\n",
              "      <td>NaN</td>\n",
              "      <td>2014</td>\n",
              "      <td>04/06/2019 04:04:43 PM</td>\n",
              "      <td>NaN</td>\n",
              "      <td>NaN</td>\n",
              "      <td>NaN</td>\n",
              "    </tr>\n",
              "  </tbody>\n",
              "</table>\n",
              "<p>5 rows × 22 columns</p>\n",
              "</div>\n",
              "    <div class=\"colab-df-buttons\">\n",
              "\n",
              "  <div class=\"colab-df-container\">\n",
              "    <button class=\"colab-df-convert\" onclick=\"convertToInteractive('df-4d73a6af-3506-4caa-ba43-8870a7b68d93')\"\n",
              "            title=\"Convert this dataframe to an interactive table.\"\n",
              "            style=\"display:none;\">\n",
              "\n",
              "  <svg xmlns=\"http://www.w3.org/2000/svg\" height=\"24px\" viewBox=\"0 -960 960 960\">\n",
              "    <path d=\"M120-120v-720h720v720H120Zm60-500h600v-160H180v160Zm220 220h160v-160H400v160Zm0 220h160v-160H400v160ZM180-400h160v-160H180v160Zm440 0h160v-160H620v160ZM180-180h160v-160H180v160Zm440 0h160v-160H620v160Z\"/>\n",
              "  </svg>\n",
              "    </button>\n",
              "\n",
              "  <style>\n",
              "    .colab-df-container {\n",
              "      display:flex;\n",
              "      gap: 12px;\n",
              "    }\n",
              "\n",
              "    .colab-df-convert {\n",
              "      background-color: #E8F0FE;\n",
              "      border: none;\n",
              "      border-radius: 50%;\n",
              "      cursor: pointer;\n",
              "      display: none;\n",
              "      fill: #1967D2;\n",
              "      height: 32px;\n",
              "      padding: 0 0 0 0;\n",
              "      width: 32px;\n",
              "    }\n",
              "\n",
              "    .colab-df-convert:hover {\n",
              "      background-color: #E2EBFA;\n",
              "      box-shadow: 0px 1px 2px rgba(60, 64, 67, 0.3), 0px 1px 3px 1px rgba(60, 64, 67, 0.15);\n",
              "      fill: #174EA6;\n",
              "    }\n",
              "\n",
              "    .colab-df-buttons div {\n",
              "      margin-bottom: 4px;\n",
              "    }\n",
              "\n",
              "    [theme=dark] .colab-df-convert {\n",
              "      background-color: #3B4455;\n",
              "      fill: #D2E3FC;\n",
              "    }\n",
              "\n",
              "    [theme=dark] .colab-df-convert:hover {\n",
              "      background-color: #434B5C;\n",
              "      box-shadow: 0px 1px 3px 1px rgba(0, 0, 0, 0.15);\n",
              "      filter: drop-shadow(0px 1px 2px rgba(0, 0, 0, 0.3));\n",
              "      fill: #FFFFFF;\n",
              "    }\n",
              "  </style>\n",
              "\n",
              "    <script>\n",
              "      const buttonEl =\n",
              "        document.querySelector('#df-4d73a6af-3506-4caa-ba43-8870a7b68d93 button.colab-df-convert');\n",
              "      buttonEl.style.display =\n",
              "        google.colab.kernel.accessAllowed ? 'block' : 'none';\n",
              "\n",
              "      async function convertToInteractive(key) {\n",
              "        const element = document.querySelector('#df-4d73a6af-3506-4caa-ba43-8870a7b68d93');\n",
              "        const dataTable =\n",
              "          await google.colab.kernel.invokeFunction('convertToInteractive',\n",
              "                                                    [key], {});\n",
              "        if (!dataTable) return;\n",
              "\n",
              "        const docLinkHtml = 'Like what you see? Visit the ' +\n",
              "          '<a target=\"_blank\" href=https://colab.research.google.com/notebooks/data_table.ipynb>data table notebook</a>'\n",
              "          + ' to learn more about interactive tables.';\n",
              "        element.innerHTML = '';\n",
              "        dataTable['output_type'] = 'display_data';\n",
              "        await google.colab.output.renderOutput(dataTable, element);\n",
              "        const docLink = document.createElement('div');\n",
              "        docLink.innerHTML = docLinkHtml;\n",
              "        element.appendChild(docLink);\n",
              "      }\n",
              "    </script>\n",
              "  </div>\n",
              "\n",
              "\n",
              "<div id=\"df-52fd11f4-349f-4520-aeea-690d9e6c0c03\">\n",
              "  <button class=\"colab-df-quickchart\" onclick=\"quickchart('df-52fd11f4-349f-4520-aeea-690d9e6c0c03')\"\n",
              "            title=\"Suggest charts\"\n",
              "            style=\"display:none;\">\n",
              "\n",
              "<svg xmlns=\"http://www.w3.org/2000/svg\" height=\"24px\"viewBox=\"0 0 24 24\"\n",
              "     width=\"24px\">\n",
              "    <g>\n",
              "        <path d=\"M19 3H5c-1.1 0-2 .9-2 2v14c0 1.1.9 2 2 2h14c1.1 0 2-.9 2-2V5c0-1.1-.9-2-2-2zM9 17H7v-7h2v7zm4 0h-2V7h2v10zm4 0h-2v-4h2v4z\"/>\n",
              "    </g>\n",
              "</svg>\n",
              "  </button>\n",
              "\n",
              "<style>\n",
              "  .colab-df-quickchart {\n",
              "      --bg-color: #E8F0FE;\n",
              "      --fill-color: #1967D2;\n",
              "      --hover-bg-color: #E2EBFA;\n",
              "      --hover-fill-color: #174EA6;\n",
              "      --disabled-fill-color: #AAA;\n",
              "      --disabled-bg-color: #DDD;\n",
              "  }\n",
              "\n",
              "  [theme=dark] .colab-df-quickchart {\n",
              "      --bg-color: #3B4455;\n",
              "      --fill-color: #D2E3FC;\n",
              "      --hover-bg-color: #434B5C;\n",
              "      --hover-fill-color: #FFFFFF;\n",
              "      --disabled-bg-color: #3B4455;\n",
              "      --disabled-fill-color: #666;\n",
              "  }\n",
              "\n",
              "  .colab-df-quickchart {\n",
              "    background-color: var(--bg-color);\n",
              "    border: none;\n",
              "    border-radius: 50%;\n",
              "    cursor: pointer;\n",
              "    display: none;\n",
              "    fill: var(--fill-color);\n",
              "    height: 32px;\n",
              "    padding: 0;\n",
              "    width: 32px;\n",
              "  }\n",
              "\n",
              "  .colab-df-quickchart:hover {\n",
              "    background-color: var(--hover-bg-color);\n",
              "    box-shadow: 0 1px 2px rgba(60, 64, 67, 0.3), 0 1px 3px 1px rgba(60, 64, 67, 0.15);\n",
              "    fill: var(--button-hover-fill-color);\n",
              "  }\n",
              "\n",
              "  .colab-df-quickchart-complete:disabled,\n",
              "  .colab-df-quickchart-complete:disabled:hover {\n",
              "    background-color: var(--disabled-bg-color);\n",
              "    fill: var(--disabled-fill-color);\n",
              "    box-shadow: none;\n",
              "  }\n",
              "\n",
              "  .colab-df-spinner {\n",
              "    border: 2px solid var(--fill-color);\n",
              "    border-color: transparent;\n",
              "    border-bottom-color: var(--fill-color);\n",
              "    animation:\n",
              "      spin 1s steps(1) infinite;\n",
              "  }\n",
              "\n",
              "  @keyframes spin {\n",
              "    0% {\n",
              "      border-color: transparent;\n",
              "      border-bottom-color: var(--fill-color);\n",
              "      border-left-color: var(--fill-color);\n",
              "    }\n",
              "    20% {\n",
              "      border-color: transparent;\n",
              "      border-left-color: var(--fill-color);\n",
              "      border-top-color: var(--fill-color);\n",
              "    }\n",
              "    30% {\n",
              "      border-color: transparent;\n",
              "      border-left-color: var(--fill-color);\n",
              "      border-top-color: var(--fill-color);\n",
              "      border-right-color: var(--fill-color);\n",
              "    }\n",
              "    40% {\n",
              "      border-color: transparent;\n",
              "      border-right-color: var(--fill-color);\n",
              "      border-top-color: var(--fill-color);\n",
              "    }\n",
              "    60% {\n",
              "      border-color: transparent;\n",
              "      border-right-color: var(--fill-color);\n",
              "    }\n",
              "    80% {\n",
              "      border-color: transparent;\n",
              "      border-right-color: var(--fill-color);\n",
              "      border-bottom-color: var(--fill-color);\n",
              "    }\n",
              "    90% {\n",
              "      border-color: transparent;\n",
              "      border-bottom-color: var(--fill-color);\n",
              "    }\n",
              "  }\n",
              "</style>\n",
              "\n",
              "  <script>\n",
              "    async function quickchart(key) {\n",
              "      const quickchartButtonEl =\n",
              "        document.querySelector('#' + key + ' button');\n",
              "      quickchartButtonEl.disabled = true;  // To prevent multiple clicks.\n",
              "      quickchartButtonEl.classList.add('colab-df-spinner');\n",
              "      try {\n",
              "        const charts = await google.colab.kernel.invokeFunction(\n",
              "            'suggestCharts', [key], {});\n",
              "      } catch (error) {\n",
              "        console.error('Error during call to suggestCharts:', error);\n",
              "      }\n",
              "      quickchartButtonEl.classList.remove('colab-df-spinner');\n",
              "      quickchartButtonEl.classList.add('colab-df-quickchart-complete');\n",
              "    }\n",
              "    (() => {\n",
              "      let quickchartButtonEl =\n",
              "        document.querySelector('#df-52fd11f4-349f-4520-aeea-690d9e6c0c03 button');\n",
              "      quickchartButtonEl.style.display =\n",
              "        google.colab.kernel.accessAllowed ? 'block' : 'none';\n",
              "    })();\n",
              "  </script>\n",
              "</div>\n",
              "    </div>\n",
              "  </div>\n"
            ]
          },
          "metadata": {},
          "execution_count": 3
        }
      ],
      "source": [
        "import pandas as pd\n",
        "fpath ='/content/drive/MyDrive/CodingDojo/04-DataViz/Week16/Data/Crimes_-_2001_to_Present.csv'\n",
        "df = pd.read_csv(fpath)\n",
        "df.head()"
      ]
    },
    {
      "cell_type": "markdown",
      "metadata": {
        "id": "16sENdFFN_xU"
      },
      "source": [
        "##Supplemental Data: Holiday Data\n"
      ]
    },
    {
      "cell_type": "code",
      "execution_count": 4,
      "metadata": {
        "colab": {
          "base_uri": "https://localhost:8080/"
        },
        "id": "DbR4QVRiHYZQ",
        "outputId": "ca72f08f-c771-46af-ad1f-98d067d9065e"
      },
      "outputs": [
        {
          "output_type": "stream",
          "name": "stdout",
          "text": [
            "Requirement already satisfied: holidays in /usr/local/lib/python3.10/dist-packages (0.38)\n",
            "Requirement already satisfied: python-dateutil in /usr/local/lib/python3.10/dist-packages (from holidays) (2.8.2)\n",
            "Requirement already satisfied: six>=1.5 in /usr/local/lib/python3.10/dist-packages (from python-dateutil->holidays) (1.16.0)\n"
          ]
        }
      ],
      "source": [
        "!pip install holidays"
      ]
    },
    {
      "cell_type": "code",
      "execution_count": 5,
      "metadata": {
        "id": "7kkMkLW6HeAi"
      },
      "outputs": [],
      "source": [
        "import holidays\n",
        "import datetime as dt\n",
        "from holidays import country_holidays"
      ]
    },
    {
      "cell_type": "code",
      "execution_count": 6,
      "metadata": {
        "colab": {
          "base_uri": "https://localhost:8080/"
        },
        "id": "FOKdVdNgHe1U",
        "outputId": "2330b493-c7fd-4b46-ec7d-0d996fbd9442"
      },
      "outputs": [
        {
          "output_type": "execute_result",
          "data": {
            "text/plain": [
              "DatetimeIndex(['2001-01-01 01:00:00', '2001-01-02 01:00:00',\n",
              "               '2001-01-03 01:00:00', '2001-01-04 01:00:00',\n",
              "               '2001-01-05 01:00:00', '2001-01-06 01:00:00',\n",
              "               '2001-01-07 01:00:00', '2001-01-08 01:00:00',\n",
              "               '2001-01-09 01:00:00', '2001-01-10 01:00:00',\n",
              "               ...\n",
              "               '2022-12-22 01:00:00', '2022-12-23 01:00:00',\n",
              "               '2022-12-24 01:00:00', '2022-12-25 01:00:00',\n",
              "               '2022-12-26 01:00:00', '2022-12-27 01:00:00',\n",
              "               '2022-12-28 01:00:00', '2022-12-29 01:00:00',\n",
              "               '2022-12-30 01:00:00', '2022-12-31 01:00:00'],\n",
              "              dtype='datetime64[ns]', length=8035, freq='D')"
            ]
          },
          "metadata": {},
          "execution_count": 6
        }
      ],
      "source": [
        "## making a date range that covers full dataset\n",
        "all_days = pd.date_range(df[\"Date\"].min(), df[\"Date\"].max())\n",
        "all_days"
      ]
    },
    {
      "cell_type": "code",
      "execution_count": 7,
      "metadata": {
        "colab": {
          "base_uri": "https://localhost:8080/"
        },
        "id": "_IdGHn6bHmga",
        "outputId": "0205a1ba-9ccf-47fb-ba5f-b600fdbcb882"
      },
      "outputs": [
        {
          "output_type": "execute_result",
          "data": {
            "text/plain": [
              "holidays.country_holidays('US')"
            ]
          },
          "metadata": {},
          "execution_count": 7
        }
      ],
      "source": [
        "## Create an instance of the US country holidays.\n",
        "us_holidays = country_holidays('US')\n",
        "us_holidays"
      ]
    },
    {
      "cell_type": "code",
      "execution_count": 8,
      "metadata": {
        "colab": {
          "base_uri": "https://localhost:8080/",
          "height": 53
        },
        "id": "1BpBgMrZHsvO",
        "outputId": "75d0e714-8640-49a4-eb76-dd6e3c4925d4"
      },
      "outputs": [
        {
          "output_type": "stream",
          "name": "stdout",
          "text": [
            "2001-01-01 01:00:00\n"
          ]
        },
        {
          "output_type": "execute_result",
          "data": {
            "text/plain": [
              "\"New Year's Day\""
            ],
            "application/vnd.google.colaboratory.intrinsic+json": {
              "type": "string"
            }
          },
          "metadata": {},
          "execution_count": 8
        }
      ],
      "source": [
        "## Testing first date\n",
        "print(all_days[0])\n",
        "us_holidays.get(all_days[0])"
      ]
    },
    {
      "cell_type": "code",
      "execution_count": 9,
      "metadata": {
        "colab": {
          "base_uri": "https://localhost:8080/"
        },
        "id": "eTk7TP9lHxbV",
        "outputId": "29d9802c-7b72-42b8-fe82-a72907728369"
      },
      "outputs": [
        {
          "output_type": "execute_result",
          "data": {
            "text/plain": [
              "[\"New Year's Day\", None, None, None, None]"
            ]
          },
          "metadata": {},
          "execution_count": 9
        }
      ],
      "source": [
        "## Getting us holidays for all dates\n",
        "holiday_list = [us_holidays.get(day) for day in all_days]\n",
        "holiday_list[:5]"
      ]
    },
    {
      "cell_type": "code",
      "execution_count": 10,
      "metadata": {
        "colab": {
          "base_uri": "https://localhost:8080/"
        },
        "id": "wCXhOMLJH2eh",
        "outputId": "e06879b7-f91b-4a69-e407-a1e8ef527950"
      },
      "outputs": [
        {
          "output_type": "execute_result",
          "data": {
            "text/plain": [
              "holidays.country_holidays('US', subdiv='MD')"
            ]
          },
          "metadata": {},
          "execution_count": 10
        }
      ],
      "source": [
        "# For a specific subdivisions (e.g. state or province):\n",
        "md_holidays = country_holidays('US', subdiv='MD')\n",
        "md_holidays"
      ]
    },
    {
      "cell_type": "code",
      "execution_count": null,
      "metadata": {
        "id": "2IGhYUZPH7Cx"
      },
      "outputs": [],
      "source": [
        "## Saving both holiday types as columns\n",
        "df[\"US Holiday\"] = [us_holidays.get(day) for day in df['Date']]\n",
        "df['MD Holiday'] = [md_holidays.get(day) for day in df['Date']]\n",
        "df.head()"
      ]
    },
    {
      "cell_type": "markdown",
      "metadata": {
        "id": "mH3SPlWxOCJi"
      },
      "source": [
        "##keep 2 forms of the data:\n",
        "The original individual crime data with a datetime index. (Each row is 1 crime)\n",
        "A resampled/converted crime counts version (Each row is 1 day)"
      ]
    },
    {
      "cell_type": "code",
      "execution_count": null,
      "metadata": {
        "id": "L3qmVPpvN5f6"
      },
      "outputs": [],
      "source": [
        "df['datetime'] = pd.to_datetime(df['Date'])\n",
        "df=df.set_index('datetime')\n",
        "# original_data = df.copy()\n",
        "\n"
      ]
    },
    {
      "cell_type": "code",
      "execution_count": null,
      "metadata": {
        "id": "c0UcxDjecQ3Y"
      },
      "outputs": [],
      "source": [
        "# daily_crime_counts = df.resample('D').size()\n",
        "# daily_crime_counts"
      ]
    },
    {
      "cell_type": "code",
      "execution_count": null,
      "metadata": {
        "id": "iP3JFX9Gc4u_"
      },
      "outputs": [],
      "source": [
        "# original_data.head()"
      ]
    },
    {
      "cell_type": "markdown",
      "metadata": {
        "id": "AFkihHg3XOjx"
      },
      "source": [
        "##Topic 1) Comparing Police Districts\n",
        "**Which district had the most crimes in 2022?**\n",
        "\n",
        "**Which had the least?**"
      ]
    },
    {
      "cell_type": "code",
      "execution_count": null,
      "metadata": {
        "id": "bhaVRuWOXPfL"
      },
      "outputs": [],
      "source": [
        "df2022=df.loc['2022']\n"
      ]
    },
    {
      "cell_type": "code",
      "source": [
        "crime_counts = df2022['District'].value_counts(normalize=True)\n",
        "crime_counts.sort_values().plot(kind='barh',figsize=(5,8))"
      ],
      "metadata": {
        "id": "EaK801o8OeZy"
      },
      "execution_count": null,
      "outputs": []
    },
    {
      "cell_type": "code",
      "source": [
        "ts=df.groupby('Primary Type').resample('Y').count()\n"
      ],
      "metadata": {
        "id": "maEYsSGwOfzK"
      },
      "execution_count": null,
      "outputs": []
    },
    {
      "cell_type": "code",
      "source": [
        "\n",
        "ts.columns"
      ],
      "metadata": {
        "id": "Ntvh65IaOrNd"
      },
      "execution_count": null,
      "outputs": []
    },
    {
      "cell_type": "code",
      "source": [
        "\n",
        "ts=ts['ID']"
      ],
      "metadata": {
        "id": "6HPb_K4POrvU"
      },
      "execution_count": null,
      "outputs": []
    },
    {
      "cell_type": "code",
      "source": [
        "ts=ts.to_frame()"
      ],
      "metadata": {
        "id": "GOVScmuyOtyY"
      },
      "execution_count": null,
      "outputs": []
    },
    {
      "cell_type": "code",
      "source": [
        "df['Primary Type'].unique()\n"
      ],
      "metadata": {
        "id": "xMn1sxznOyvs"
      },
      "execution_count": null,
      "outputs": []
    },
    {
      "cell_type": "code",
      "source": [
        "\n",
        "for x in df['Primary Type'].unique():\n",
        "\n",
        "   ts.loc[x].plot(figsize=(4,4),title=x)"
      ],
      "metadata": {
        "id": "7XGyS4FnO3EM"
      },
      "execution_count": null,
      "outputs": []
    },
    {
      "cell_type": "markdown",
      "source": [
        "## Project 3 - Part 2"
      ],
      "metadata": {
        "id": "R6cRMBwnQS9v"
      }
    },
    {
      "cell_type": "code",
      "source": [
        "ts_total=df.resample('M').size().to_frame()\n"
      ],
      "metadata": {
        "id": "rfRyMU1sQV--"
      },
      "execution_count": null,
      "outputs": []
    },
    {
      "cell_type": "code",
      "source": [
        "ts_total= ts_total.rename(columns={'0' : 'Count'})\n"
      ],
      "metadata": {
        "id": "FCZoFafnKxr1"
      },
      "execution_count": null,
      "outputs": []
    },
    {
      "cell_type": "code",
      "source": [
        "ts_total.isna().sum()\n"
      ],
      "metadata": {
        "id": "iGmDgIeZK1Ol"
      },
      "execution_count": null,
      "outputs": []
    },
    {
      "cell_type": "code",
      "source": [
        "ts_total.plot()\n"
      ],
      "metadata": {
        "id": "Ngl5gnD2K3dS"
      },
      "execution_count": null,
      "outputs": []
    },
    {
      "cell_type": "code",
      "source": [
        "# Apply seasonal decomposition\n",
        "decomp = tsa.seasonal_decompose(ts_total)\n",
        "fig = decomp.plot()\n",
        "fig.set_size_inches(12,5)\n",
        "fig.tight_layout()"
      ],
      "metadata": {
        "id": "0Bj3u_9GK309"
      },
      "execution_count": null,
      "outputs": []
    },
    {
      "cell_type": "code",
      "source": [
        "\n",
        "# Narrow down the date range of the plot\n",
        "seasonal = decomp.seasonal\n",
        "ax = seasonal.loc['2016': '2019'].plot(marker = 'o')\n"
      ],
      "metadata": {
        "id": "y1sB41S-K6xX"
      },
      "execution_count": null,
      "outputs": []
    },
    {
      "cell_type": "code",
      "source": [
        "\n",
        "# Check for stationarity\n",
        "get_adfuller_results(ts_total)\n"
      ],
      "metadata": {
        "id": "-BsmuW_qK9QU"
      },
      "execution_count": null,
      "outputs": []
    },
    {
      "cell_type": "code",
      "source": [
        "\n",
        "# determine d\n",
        "d = ndiffs(ts_total)\n",
        "print (f'd = {d}')\n",
        "# determine D\n",
        "D = nsdiffs(ts_total, m = 12)\n",
        "print (f'D = {D}')\n"
      ],
      "metadata": {
        "id": "R21t20hMK_Nw"
      },
      "execution_count": null,
      "outputs": []
    },
    {
      "cell_type": "code",
      "source": [
        "# apply both differencings\n",
        "ts_total_diff = ts_total.diff().diff(12).dropna()\n",
        "ts_total_diff.plot();\n"
      ],
      "metadata": {
        "id": "Pvbmf2dYLB4q"
      },
      "execution_count": null,
      "outputs": []
    },
    {
      "cell_type": "code",
      "source": [
        "# now look at the acf/pacf of the stationary data\n",
        "plot_acf_pacf(ts_total_diff, annotate_seas = True, m = 12, nlags = 60);\n"
      ],
      "metadata": {
        "id": "dXe4tErKLF3L"
      },
      "execution_count": null,
      "outputs": []
    },
    {
      "cell_type": "code",
      "source": [
        "\n",
        "# tts\n",
        "train, test = train_test_split(ts_total, test_size=.25)\n",
        "ax = train.plot(label='Train')\n",
        "test.plot(ax=ax, label='Test')\n",
        "ax.legend();\n"
      ],
      "metadata": {
        "id": "aWCnsmWwLIsn"
      },
      "execution_count": null,
      "outputs": []
    },
    {
      "cell_type": "code",
      "source": [
        "# Orders for non seasonal components\n",
        "p = 1  # nonseasonal AR\n",
        "d = 1  # nonseasonal differencing\n",
        "q = 1  # nonseasonal MA\n",
        "\n",
        "# Orders for seasonal components\n",
        "P = 1  # Seasonal AR\n",
        "D = 0  # Seasonal differencing\n",
        "Q = 1  # Seasonal MA\n",
        "m = 12 # Seasonal period\n",
        "\n",
        "sarima = tsa.ARIMA(train, order = (p,d,q), seasonal_order=(P,D,Q,m)).fit()\n",
        "\n",
        "# Obtain summary\n",
        "sarima.summary()"
      ],
      "metadata": {
        "id": "OvVV0uXBLJWT"
      },
      "execution_count": null,
      "outputs": []
    },
    {
      "cell_type": "code",
      "source": [
        "\n",
        "# Obtain forecast as a dataframe with confidence intervals\n",
        "forecast_df = sarima.get_forecast(steps=len(test)).summary_frame()\n",
        "# Call the custom function to plot the forecasts with confidence intervals and true values\n",
        "plot_forecast(train, test, forecast_df);\n",
        "# Obtain metrics\n",
        "regression_metrics_ts(test, forecast_df['mean'])"
      ],
      "metadata": {
        "id": "6Yg_YxPSLMiZ"
      },
      "execution_count": null,
      "outputs": []
    },
    {
      "cell_type": "code",
      "source": [
        "\n",
        "import pmdarima as pm\n",
        "\n",
        "# Default auto_arima will select model based on AIC score\n",
        "auto_model = pm.auto_arima(\n",
        "    train,\n",
        "    seasonal=True,\n",
        "    m=12,\n",
        "    trace=True\n",
        ")\n"
      ],
      "metadata": {
        "id": "J5GdSdlvLPnb"
      },
      "execution_count": null,
      "outputs": []
    },
    {
      "cell_type": "code",
      "source": [
        "\n",
        "# Obtain diagnostic plots\n",
        "fig = auto_model.plot_diagnostics()\n",
        "fig.set_size_inches(10,6)\n",
        "fig.tight_layout()"
      ],
      "metadata": {
        "id": "z-qYTLHxLSR5"
      },
      "execution_count": null,
      "outputs": []
    },
    {
      "cell_type": "code",
      "source": [
        "\n",
        "# Use auto_arima parameters to fit an ARIMA\n",
        "auto_model = tsa.ARIMA(\n",
        "    train, order=auto_model.order, seasonal_order=auto_model.seasonal_order\n",
        ").fit()\n",
        "\n",
        "\n",
        "# Obtain forecast as a dataframe with confidence intervals\n",
        "forecast_df = auto_model.get_forecast(steps=len(test)).summary_frame()\n",
        "# Call the custom function to plot the forecasts with confidence intervals and true values\n",
        "plot_forecast(train, test, forecast_df);\n",
        "# Obtain metrics\n",
        "regression_metrics_ts(test, forecast_df['mean'])\n"
      ],
      "metadata": {
        "id": "czT1xm5KLWsl"
      },
      "execution_count": null,
      "outputs": []
    },
    {
      "cell_type": "code",
      "source": [
        "\n",
        "# These are the parameters of our final model\n",
        "# Orders for non seasonal components\n",
        "p =2  # nonseasonal AR\n",
        "d = 1  # nonseasonal differencing\n",
        "q = 2  # nonseasonal MA\n",
        "\n",
        "# Orders for seasonal components\n",
        "P = 1  # Seasonal AR\n",
        "D = 0 # Seasonal differencing\n",
        "Q =1  # Seasonal MA\n",
        "m = 12 # Seasonal period\n",
        "\n",
        "final_model = tsa.ARIMA(ts_total, order = (p,d,q), seasonal_order=(P,D,Q,m)).fit()\n"
      ],
      "metadata": {
        "id": "5Mi0upWJLXLH"
      },
      "execution_count": null,
      "outputs": []
    },
    {
      "cell_type": "code",
      "source": [
        "\n",
        "# Obtain future forecasts beyond test data\n",
        "forecast_df  = final_model.get_forecast(6).summary_frame()\n",
        "plot_forecast(train,test,forecast_df);"
      ],
      "metadata": {
        "id": "irorAMdwLacj"
      },
      "execution_count": null,
      "outputs": []
    },
    {
      "cell_type": "code",
      "source": [
        "forecast_df.index[0],forecast_df.index[-1]\n"
      ],
      "metadata": {
        "id": "URbjxeLFLdGh"
      },
      "execution_count": null,
      "outputs": []
    },
    {
      "cell_type": "code",
      "source": [
        "\n",
        "starting_value = forecast_df['mean'].iloc[0]\n",
        "starting_value"
      ],
      "metadata": {
        "id": "BfnyrjnSLfa6"
      },
      "execution_count": null,
      "outputs": []
    },
    {
      "cell_type": "code",
      "source": [
        "final_value = forecast_df['mean'].iloc[-1]\n",
        "final_value"
      ],
      "metadata": {
        "id": "iYrIt0QlLhHt"
      },
      "execution_count": null,
      "outputs": []
    },
    {
      "cell_type": "code",
      "source": [
        "change = final_value - starting_value\n",
        "change"
      ],
      "metadata": {
        "id": "ssjh5HxALi5D"
      },
      "execution_count": null,
      "outputs": []
    },
    {
      "cell_type": "code",
      "source": [
        "\n",
        "perc_change = (change / starting_value) * 100\n",
        "perc_change"
      ],
      "metadata": {
        "id": "iNOsdjuKLkxI"
      },
      "execution_count": null,
      "outputs": []
    },
    {
      "cell_type": "code",
      "source": [
        "#Analye Narcotics\n",
        "ts_narc=df.groupby('Primary Type').resample('M').size().loc['NARCOTICS'].to_frame()\n",
        "ts_narc\n"
      ],
      "metadata": {
        "id": "bFbfC5eFLm6Q"
      },
      "execution_count": null,
      "outputs": []
    },
    {
      "cell_type": "code",
      "source": [
        "\n",
        "ts_narc= ts_narc.rename(columns={'0     ' : 'Count'})\n",
        "ts_narc.plot()\n"
      ],
      "metadata": {
        "id": "iamONRc-L0sb"
      },
      "execution_count": null,
      "outputs": []
    },
    {
      "cell_type": "code",
      "source": [
        "\n",
        "# Apply seasonal decomposition\n",
        "decomp = tsa.seasonal_decompose(ts_narc)\n",
        "fig = decomp.plot()\n",
        "fig.set_size_inches(12,5)\n",
        "fig.tight_layout()"
      ],
      "metadata": {
        "id": "JneqqBH8L1Jt"
      },
      "execution_count": null,
      "outputs": []
    },
    {
      "cell_type": "code",
      "source": [
        "\n",
        "# Narrow down the date range of the plot\n",
        "seasonal = decomp.seasonal\n",
        "ax = seasonal.loc['2016': '2019'].plot(marker = 'o')\n"
      ],
      "metadata": {
        "id": "PjBpPUXvL6dm"
      },
      "execution_count": null,
      "outputs": []
    },
    {
      "cell_type": "code",
      "source": [
        "\n",
        "# Check for stationarity\n",
        "get_adfuller_results(ts_narc)"
      ],
      "metadata": {
        "id": "fp6j4gvLL_Ss"
      },
      "execution_count": null,
      "outputs": []
    },
    {
      "cell_type": "code",
      "source": [
        "# determine d\n",
        "d = ndiffs(ts_narc)\n",
        "print (f'd = {d}')\n",
        "# determine D\n",
        "D = nsdiffs(ts_total, m = 12)\n",
        "print (f'D = {D}')\n",
        "\n"
      ],
      "metadata": {
        "id": "Y05hQVTWL_oD"
      },
      "execution_count": null,
      "outputs": []
    },
    {
      "cell_type": "code",
      "source": [
        "\n",
        "# apply both differencings\n",
        "ts_narc_diff = ts_narc.diff().diff(12).dropna()\n",
        "ts_narc_diff.plot();\n"
      ],
      "metadata": {
        "id": "aPorLyngMBp1"
      },
      "execution_count": null,
      "outputs": []
    },
    {
      "cell_type": "code",
      "source": [
        "\n",
        "# now look at the acf/pacf of the stationary data\n",
        "plot_acf_pacf(ts_narc_diff, annotate_seas = True, m = 12, nlags = 60);"
      ],
      "metadata": {
        "id": "DB-S0oBMMDSr"
      },
      "execution_count": null,
      "outputs": []
    },
    {
      "cell_type": "code",
      "source": [
        "\n",
        "# tts\n",
        "train, test = train_test_split(ts_narc, test_size=.25)\n",
        "ax = train.plot(label='Train')\n",
        "test.plot(ax=ax, label='Test')\n",
        "ax.legend();"
      ],
      "metadata": {
        "id": "8Tn_mS1VMGqG"
      },
      "execution_count": null,
      "outputs": []
    },
    {
      "cell_type": "code",
      "source": [
        "\n",
        "# Orders for non seasonal components\n",
        "p = 1  # nonseasonal AR\n",
        "d = 1  # nonseasonal differencing\n",
        "q = 1  # nonseasonal MA\n",
        "\n",
        "# Orders for seasonal components\n",
        "P = 1  # Seasonal AR\n",
        "D = 0  # Seasonal differencing\n",
        "Q = 1  # Seasonal MA\n",
        "m = 12 # Seasonal period\n",
        "\n",
        "sarima = tsa.ARIMA(train, order = (p,d,q), seasonal_order=(P,D,Q,m)).fit()\n",
        "\n",
        "# Obtain summary\n",
        "sarima.summary()"
      ],
      "metadata": {
        "id": "S2-4zjylMJVi"
      },
      "execution_count": null,
      "outputs": []
    },
    {
      "cell_type": "code",
      "source": [
        "\n",
        "# Obtain forecast as a dataframe with confidence intervals\n",
        "forecast_df = sarima.get_forecast(steps=len(test)).summary_frame()\n",
        "# Call the custom function to plot the forecasts with confidence intervals and true values\n",
        "plot_forecast(train, test, forecast_df);\n",
        "# Obtain metrics\n",
        "regression_metrics_ts(test, forecast_df['mean'])"
      ],
      "metadata": {
        "id": "qfFKGX3BMLpB"
      },
      "execution_count": null,
      "outputs": []
    },
    {
      "cell_type": "code",
      "source": [
        "\n",
        "import pmdarima as pm\n",
        "\n",
        "# Default auto_arima will select model based on AIC score\n",
        "auto_model = pm.auto_arima(\n",
        "    train,\n",
        "    seasonal=True,\n",
        "    m=12,\n",
        "    trace=True\n",
        ")\n"
      ],
      "metadata": {
        "id": "lxoCkegcMOiX"
      },
      "execution_count": null,
      "outputs": []
    },
    {
      "cell_type": "code",
      "source": [
        "\n",
        "# Obtain diagnostic plots\n",
        "fig = auto_model.plot_diagnostics()\n",
        "fig.set_size_inches(10,6)\n",
        "fig.tight_layout()"
      ],
      "metadata": {
        "id": "PoFlmQrrMTPN"
      },
      "execution_count": null,
      "outputs": []
    },
    {
      "cell_type": "code",
      "source": [
        "# Use auto_arima parameters to fit an ARIMA\n",
        "auto_model = tsa.ARIMA(\n",
        "    train, order=auto_model.order, seasonal_order=auto_model.seasonal_order\n",
        ").fit()\n",
        "\n",
        "\n",
        "# Obtain forecast as a dataframe with confidence intervals\n",
        "forecast_df = auto_model.get_forecast(steps=len(test)).summary_frame()\n",
        "# Call the custom function to plot the forecasts with confidence intervals and true values\n",
        "plot_forecast(train, test, forecast_df);\n",
        "# Obtain metrics\n",
        "regression_metrics_ts(test, forecast_df['mean'])"
      ],
      "metadata": {
        "id": "DpUn9d7xMV8k"
      },
      "execution_count": null,
      "outputs": []
    },
    {
      "cell_type": "code",
      "source": [
        "# These are the parameters of our final model\n",
        "# Orders for non seasonal components\n",
        "p =1  # nonseasonal AR\n",
        "d = 1  # nonseasonal differencing\n",
        "q = 1 # nonseasonal MA\n",
        "\n",
        "# Orders for seasonal components\n",
        "P = 1  # Seasonal AR\n",
        "D = 0 # Seasonal differencing\n",
        "Q =1  # Seasonal MA\n",
        "m = 12 # Seasonal period\n",
        "\n",
        "final_model_narc = tsa.ARIMA(ts_narc, order = (p,d,q), seasonal_order=(P,D,Q,m)).fit()"
      ],
      "metadata": {
        "id": "Q1Jt_1NKMWZ_"
      },
      "execution_count": null,
      "outputs": []
    },
    {
      "cell_type": "code",
      "source": [
        "\n",
        "# Obtain future forecasts beyond test data\n",
        "forecast_df_narc  = final_model_narc.get_forecast(6).summary_frame()\n",
        "plot_forecast(train,test,forecast_df_narc);\n"
      ],
      "metadata": {
        "id": "iFEBMDLxMb2y"
      },
      "execution_count": null,
      "outputs": []
    },
    {
      "cell_type": "code",
      "source": [
        "forecast_df.index[0],forecast_df.index[-1]\n"
      ],
      "metadata": {
        "id": "TD3Z-TyFMeXU"
      },
      "execution_count": null,
      "outputs": []
    },
    {
      "cell_type": "code",
      "source": [
        "\n",
        "starting_value = forecast_df['mean'].iloc[0]\n",
        "starting_value"
      ],
      "metadata": {
        "id": "0_X7K-InMgv0"
      },
      "execution_count": null,
      "outputs": []
    },
    {
      "cell_type": "code",
      "source": [
        "final_value = forecast_df['mean'].iloc[-1]\n",
        "final_value\n"
      ],
      "metadata": {
        "id": "AxmJcQuzMhSK"
      },
      "execution_count": null,
      "outputs": []
    },
    {
      "cell_type": "code",
      "source": [
        "\n",
        "change = final_value - starting_value\n",
        "change"
      ],
      "metadata": {
        "id": "4uJruT97MjGK"
      },
      "execution_count": null,
      "outputs": []
    },
    {
      "cell_type": "code",
      "source": [
        "\n",
        "perc_change = (change / starting_value) * 100\n",
        "perc_change\n"
      ],
      "metadata": {
        "id": "_NYRugHAMmzI"
      },
      "execution_count": null,
      "outputs": []
    }
  ],
  "metadata": {
    "colab": {
      "provenance": [],
      "mount_file_id": "1C6ImHNgLol6S1Dnr1t11OPKVsy5JFQbK",
      "authorship_tag": "ABX9TyPypSO0XfU2xp1WmvsXLxXg",
      "include_colab_link": true
    },
    "kernelspec": {
      "display_name": "Python 3",
      "name": "python3"
    },
    "language_info": {
      "name": "python"
    }
  },
  "nbformat": 4,
  "nbformat_minor": 0
}